{
  "nbformat": 4,
  "nbformat_minor": 0,
  "metadata": {
    "colab": {
      "provenance": [],
      "authorship_tag": "ABX9TyPhKgK9w9EfS3MTr1uHIFlq",
      "include_colab_link": true
    },
    "kernelspec": {
      "name": "python3",
      "display_name": "Python 3"
    },
    "language_info": {
      "name": "python"
    }
  },
  "cells": [
    {
      "cell_type": "markdown",
      "metadata": {
        "id": "view-in-github",
        "colab_type": "text"
      },
      "source": [
        "<a href=\"https://colab.research.google.com/github/coen2812023/Classification/blob/main/CustomerChurn.ipynb\" target=\"_parent\"><img src=\"https://colab.research.google.com/assets/colab-badge.svg\" alt=\"Open In Colab\"/></a>"
      ]
    },
    {
      "cell_type": "code",
      "execution_count": 21,
      "metadata": {
        "id": "j_vlnURTfobf"
      },
      "outputs": [],
      "source": [
        "import pandas as pd\n",
        "import random\n",
        "import numpy as np\n",
        "from sklearn.neighbors import KNeighborsClassifier\n",
        "from sklearn.metrics import accuracy_score,confusion_matrix\n",
        "from sklearn.datasets import make_classification\n",
        "from sklearn.model_selection import train_test_split\n",
        "\n",
        "from sklearn.tree import DecisionTreeClassifier\n",
        "\n",
        "\n",
        "\n",
        "np.random.seed(0)\n",
        "\n",
        "url = 'https://raw.githubusercontent.com/coen2812023/Classification/main/customer_churn.csv'\n",
        "df = pd.read_csv(url, index_col=0)\n",
        "\n",
        "\n"
      ]
    },
    {
      "cell_type": "code",
      "source": [
        "df.head()"
      ],
      "metadata": {
        "colab": {
          "base_uri": "https://localhost:8080/",
          "height": 302
        },
        "id": "vvEWAt-BjA__",
        "outputId": "2106c990-5322-4df1-8cca-bcd4755c7e60"
      },
      "execution_count": 22,
      "outputs": [
        {
          "output_type": "execute_result",
          "data": {
            "text/plain": [
              "             age  gender  tenure  balance  products  credit_score  \\\n",
              "customer_id                                                         \n",
              "1             62  Female     106    18191         3           584   \n",
              "2             65    Male     238     3121         4           624   \n",
              "3             71    Male     119    13585         5           326   \n",
              "4             18    Male      25     4886         5           524   \n",
              "5             21  Female     124     9922         3           548   \n",
              "\n",
              "             active_member  estimated_salary location    phone  loan  \\\n",
              "customer_id                                                            \n",
              "1                        1            111941   Canada  Android     1   \n",
              "2                        0             52957   Mexico  Android     1   \n",
              "3                        0             68870   Canada      iOS     1   \n",
              "4                        0             59849   Mexico  Android     0   \n",
              "5                        1             98727      USA  Android     1   \n",
              "\n",
              "             security_deposit  cd_account  online_banking  churned  \n",
              "customer_id                                                         \n",
              "1                           0           1               1        1  \n",
              "2                           1           0               1        0  \n",
              "3                           0           0               1        0  \n",
              "4                           1           1               0        1  \n",
              "5                           0           0               1        0  "
            ],
            "text/html": [
              "\n",
              "  <div id=\"df-47ffe36e-6d6f-45e6-a991-dafa0350f102\">\n",
              "    <div class=\"colab-df-container\">\n",
              "      <div>\n",
              "<style scoped>\n",
              "    .dataframe tbody tr th:only-of-type {\n",
              "        vertical-align: middle;\n",
              "    }\n",
              "\n",
              "    .dataframe tbody tr th {\n",
              "        vertical-align: top;\n",
              "    }\n",
              "\n",
              "    .dataframe thead th {\n",
              "        text-align: right;\n",
              "    }\n",
              "</style>\n",
              "<table border=\"1\" class=\"dataframe\">\n",
              "  <thead>\n",
              "    <tr style=\"text-align: right;\">\n",
              "      <th></th>\n",
              "      <th>age</th>\n",
              "      <th>gender</th>\n",
              "      <th>tenure</th>\n",
              "      <th>balance</th>\n",
              "      <th>products</th>\n",
              "      <th>credit_score</th>\n",
              "      <th>active_member</th>\n",
              "      <th>estimated_salary</th>\n",
              "      <th>location</th>\n",
              "      <th>phone</th>\n",
              "      <th>loan</th>\n",
              "      <th>security_deposit</th>\n",
              "      <th>cd_account</th>\n",
              "      <th>online_banking</th>\n",
              "      <th>churned</th>\n",
              "    </tr>\n",
              "    <tr>\n",
              "      <th>customer_id</th>\n",
              "      <th></th>\n",
              "      <th></th>\n",
              "      <th></th>\n",
              "      <th></th>\n",
              "      <th></th>\n",
              "      <th></th>\n",
              "      <th></th>\n",
              "      <th></th>\n",
              "      <th></th>\n",
              "      <th></th>\n",
              "      <th></th>\n",
              "      <th></th>\n",
              "      <th></th>\n",
              "      <th></th>\n",
              "      <th></th>\n",
              "    </tr>\n",
              "  </thead>\n",
              "  <tbody>\n",
              "    <tr>\n",
              "      <th>1</th>\n",
              "      <td>62</td>\n",
              "      <td>Female</td>\n",
              "      <td>106</td>\n",
              "      <td>18191</td>\n",
              "      <td>3</td>\n",
              "      <td>584</td>\n",
              "      <td>1</td>\n",
              "      <td>111941</td>\n",
              "      <td>Canada</td>\n",
              "      <td>Android</td>\n",
              "      <td>1</td>\n",
              "      <td>0</td>\n",
              "      <td>1</td>\n",
              "      <td>1</td>\n",
              "      <td>1</td>\n",
              "    </tr>\n",
              "    <tr>\n",
              "      <th>2</th>\n",
              "      <td>65</td>\n",
              "      <td>Male</td>\n",
              "      <td>238</td>\n",
              "      <td>3121</td>\n",
              "      <td>4</td>\n",
              "      <td>624</td>\n",
              "      <td>0</td>\n",
              "      <td>52957</td>\n",
              "      <td>Mexico</td>\n",
              "      <td>Android</td>\n",
              "      <td>1</td>\n",
              "      <td>1</td>\n",
              "      <td>0</td>\n",
              "      <td>1</td>\n",
              "      <td>0</td>\n",
              "    </tr>\n",
              "    <tr>\n",
              "      <th>3</th>\n",
              "      <td>71</td>\n",
              "      <td>Male</td>\n",
              "      <td>119</td>\n",
              "      <td>13585</td>\n",
              "      <td>5</td>\n",
              "      <td>326</td>\n",
              "      <td>0</td>\n",
              "      <td>68870</td>\n",
              "      <td>Canada</td>\n",
              "      <td>iOS</td>\n",
              "      <td>1</td>\n",
              "      <td>0</td>\n",
              "      <td>0</td>\n",
              "      <td>1</td>\n",
              "      <td>0</td>\n",
              "    </tr>\n",
              "    <tr>\n",
              "      <th>4</th>\n",
              "      <td>18</td>\n",
              "      <td>Male</td>\n",
              "      <td>25</td>\n",
              "      <td>4886</td>\n",
              "      <td>5</td>\n",
              "      <td>524</td>\n",
              "      <td>0</td>\n",
              "      <td>59849</td>\n",
              "      <td>Mexico</td>\n",
              "      <td>Android</td>\n",
              "      <td>0</td>\n",
              "      <td>1</td>\n",
              "      <td>1</td>\n",
              "      <td>0</td>\n",
              "      <td>1</td>\n",
              "    </tr>\n",
              "    <tr>\n",
              "      <th>5</th>\n",
              "      <td>21</td>\n",
              "      <td>Female</td>\n",
              "      <td>124</td>\n",
              "      <td>9922</td>\n",
              "      <td>3</td>\n",
              "      <td>548</td>\n",
              "      <td>1</td>\n",
              "      <td>98727</td>\n",
              "      <td>USA</td>\n",
              "      <td>Android</td>\n",
              "      <td>1</td>\n",
              "      <td>0</td>\n",
              "      <td>0</td>\n",
              "      <td>1</td>\n",
              "      <td>0</td>\n",
              "    </tr>\n",
              "  </tbody>\n",
              "</table>\n",
              "</div>\n",
              "      <button class=\"colab-df-convert\" onclick=\"convertToInteractive('df-47ffe36e-6d6f-45e6-a991-dafa0350f102')\"\n",
              "              title=\"Convert this dataframe to an interactive table.\"\n",
              "              style=\"display:none;\">\n",
              "        \n",
              "  <svg xmlns=\"http://www.w3.org/2000/svg\" height=\"24px\"viewBox=\"0 0 24 24\"\n",
              "       width=\"24px\">\n",
              "    <path d=\"M0 0h24v24H0V0z\" fill=\"none\"/>\n",
              "    <path d=\"M18.56 5.44l.94 2.06.94-2.06 2.06-.94-2.06-.94-.94-2.06-.94 2.06-2.06.94zm-11 1L8.5 8.5l.94-2.06 2.06-.94-2.06-.94L8.5 2.5l-.94 2.06-2.06.94zm10 10l.94 2.06.94-2.06 2.06-.94-2.06-.94-.94-2.06-.94 2.06-2.06.94z\"/><path d=\"M17.41 7.96l-1.37-1.37c-.4-.4-.92-.59-1.43-.59-.52 0-1.04.2-1.43.59L10.3 9.45l-7.72 7.72c-.78.78-.78 2.05 0 2.83L4 21.41c.39.39.9.59 1.41.59.51 0 1.02-.2 1.41-.59l7.78-7.78 2.81-2.81c.8-.78.8-2.07 0-2.86zM5.41 20L4 18.59l7.72-7.72 1.47 1.35L5.41 20z\"/>\n",
              "  </svg>\n",
              "      </button>\n",
              "      \n",
              "  <style>\n",
              "    .colab-df-container {\n",
              "      display:flex;\n",
              "      flex-wrap:wrap;\n",
              "      gap: 12px;\n",
              "    }\n",
              "\n",
              "    .colab-df-convert {\n",
              "      background-color: #E8F0FE;\n",
              "      border: none;\n",
              "      border-radius: 50%;\n",
              "      cursor: pointer;\n",
              "      display: none;\n",
              "      fill: #1967D2;\n",
              "      height: 32px;\n",
              "      padding: 0 0 0 0;\n",
              "      width: 32px;\n",
              "    }\n",
              "\n",
              "    .colab-df-convert:hover {\n",
              "      background-color: #E2EBFA;\n",
              "      box-shadow: 0px 1px 2px rgba(60, 64, 67, 0.3), 0px 1px 3px 1px rgba(60, 64, 67, 0.15);\n",
              "      fill: #174EA6;\n",
              "    }\n",
              "\n",
              "    [theme=dark] .colab-df-convert {\n",
              "      background-color: #3B4455;\n",
              "      fill: #D2E3FC;\n",
              "    }\n",
              "\n",
              "    [theme=dark] .colab-df-convert:hover {\n",
              "      background-color: #434B5C;\n",
              "      box-shadow: 0px 1px 3px 1px rgba(0, 0, 0, 0.15);\n",
              "      filter: drop-shadow(0px 1px 2px rgba(0, 0, 0, 0.3));\n",
              "      fill: #FFFFFF;\n",
              "    }\n",
              "  </style>\n",
              "\n",
              "      <script>\n",
              "        const buttonEl =\n",
              "          document.querySelector('#df-47ffe36e-6d6f-45e6-a991-dafa0350f102 button.colab-df-convert');\n",
              "        buttonEl.style.display =\n",
              "          google.colab.kernel.accessAllowed ? 'block' : 'none';\n",
              "\n",
              "        async function convertToInteractive(key) {\n",
              "          const element = document.querySelector('#df-47ffe36e-6d6f-45e6-a991-dafa0350f102');\n",
              "          const dataTable =\n",
              "            await google.colab.kernel.invokeFunction('convertToInteractive',\n",
              "                                                     [key], {});\n",
              "          if (!dataTable) return;\n",
              "\n",
              "          const docLinkHtml = 'Like what you see? Visit the ' +\n",
              "            '<a target=\"_blank\" href=https://colab.research.google.com/notebooks/data_table.ipynb>data table notebook</a>'\n",
              "            + ' to learn more about interactive tables.';\n",
              "          element.innerHTML = '';\n",
              "          dataTable['output_type'] = 'display_data';\n",
              "          await google.colab.output.renderOutput(dataTable, element);\n",
              "          const docLink = document.createElement('div');\n",
              "          docLink.innerHTML = docLinkHtml;\n",
              "          element.appendChild(docLink);\n",
              "        }\n",
              "      </script>\n",
              "    </div>\n",
              "  </div>\n",
              "  "
            ]
          },
          "metadata": {},
          "execution_count": 22
        }
      ]
    },
    {
      "cell_type": "code",
      "source": [
        "df.churned.value_counts()"
      ],
      "metadata": {
        "colab": {
          "base_uri": "https://localhost:8080/"
        },
        "id": "TP9ucj3rjv1Q",
        "outputId": "45a7c4a3-f08d-474c-efff-b7c613200ecb"
      },
      "execution_count": 27,
      "outputs": [
        {
          "output_type": "execute_result",
          "data": {
            "text/plain": [
              "0    51\n",
              "1    49\n",
              "Name: churned, dtype: int64"
            ]
          },
          "metadata": {},
          "execution_count": 27
        }
      ]
    },
    {
      "cell_type": "code",
      "source": [
        "\n",
        "# Split the dataset into features and target variable\n",
        "X = df. iloc[:,1:] # select all rows and all columns except the first one\n",
        "X = X.iloc[:, :-1] # select all rows and all columns except the last one\n",
        "X = pd.get_dummies(X, drop_first=True)\n",
        "y = df.iloc[:, -1] # select all rows and only the last column"
      ],
      "metadata": {
        "id": "k3Jg3lCbfshS"
      },
      "execution_count": 23,
      "outputs": []
    },
    {
      "cell_type": "code",
      "source": [
        "# Split the data into training and test sets\n",
        "X_train, X_test, y_train, y_test = train_test_split(X, y, test_size=0.3)\n",
        "\n",
        "\n",
        "# Create the classifier\n",
        "knn = KNeighborsClassifier(n_neighbors=3)\n",
        "\n",
        "# Fit the classifier to the training data\n",
        "knn.fit(X_train, y_train)\n",
        "\n",
        "# Predict labels for test data\n",
        "predictions = knn.predict(X_test)\n",
        "\n",
        "# Evaluate the classifier using accuracy\n",
        "acc = accuracy_score(y_test,predictions)\n",
        "print(\"Accuracy:\", acc)"
      ],
      "metadata": {
        "colab": {
          "base_uri": "https://localhost:8080/"
        },
        "id": "ksFrdyK5fxPN",
        "outputId": "8286cbfe-869f-4cbe-b3f2-5344623fb0d4"
      },
      "execution_count": 24,
      "outputs": [
        {
          "output_type": "stream",
          "name": "stdout",
          "text": [
            "Accuracy: 0.5333333333333333\n"
          ]
        }
      ]
    },
    {
      "cell_type": "code",
      "source": [
        "\n",
        "# Define the decision tree classifier\n",
        "clf = DecisionTreeClassifier()\n",
        "\n",
        "# Fit the classifier to the training data\n",
        "clf.fit(X_train, y_train)\n"
      ],
      "metadata": {
        "colab": {
          "base_uri": "https://localhost:8080/"
        },
        "id": "ltzG2X4bf0nF",
        "outputId": "04ebbf4e-0184-45a3-f6e2-8631de387478"
      },
      "execution_count": 25,
      "outputs": [
        {
          "output_type": "execute_result",
          "data": {
            "text/plain": [
              "DecisionTreeClassifier()"
            ]
          },
          "metadata": {},
          "execution_count": 25
        }
      ]
    },
    {
      "cell_type": "code",
      "source": [
        "# Make predictions on the test data\n",
        "y_pred = clf.predict(X_test)\n",
        "\n",
        "# Evaluate the model using accuracy\n",
        "acc = accuracy_score(y_test, y_pred)\n",
        "print(\"Accuracy:\", acc)\n",
        "\n",
        "# Print the confusion matrix\n",
        "conf_mat = confusion_matrix(y_test, y_pred)\n",
        "print(\"Confusion Matrix:\")\n",
        "print(conf_mat)"
      ],
      "metadata": {
        "colab": {
          "base_uri": "https://localhost:8080/"
        },
        "id": "O0vXr1XPf2-Z",
        "outputId": "a9a8fce0-d160-4dc0-cc53-8b02fafdf2c5"
      },
      "execution_count": 26,
      "outputs": [
        {
          "output_type": "stream",
          "name": "stdout",
          "text": [
            "Accuracy: 0.4666666666666667\n",
            "Confusion Matrix:\n",
            "[[7 8]\n",
            " [8 7]]\n"
          ]
        }
      ]
    },
    {
      "cell_type": "code",
      "source": [
        "from sklearn.metrics import accuracy_score, confusion_matrix, classification_report\n",
        "from sklearn import metrics\n",
        "from sklearn.model_selection import train_test_split"
      ],
      "metadata": {
        "id": "G4sdNlk-iOKG"
      },
      "execution_count": 13,
      "outputs": []
    },
    {
      "cell_type": "code",
      "source": [
        "\n",
        "print(f\"accuracy score is {accuracy_score(y_test, y_pred )}\")\n",
        "print(metrics.classification_report(y_test, y_pred))"
      ],
      "metadata": {
        "colab": {
          "base_uri": "https://localhost:8080/"
        },
        "id": "99GiO_lRiSIS",
        "outputId": "43e3906e-6b7b-47ca-9ae0-f73e7c168eb5"
      },
      "execution_count": 16,
      "outputs": [
        {
          "output_type": "stream",
          "name": "stdout",
          "text": [
            "accuracy score is 0.5666666666666667\n",
            "              precision    recall  f1-score   support\n",
            "\n",
            "           0       0.70      0.41      0.52        17\n",
            "           1       0.50      0.77      0.61        13\n",
            "\n",
            "    accuracy                           0.57        30\n",
            "   macro avg       0.60      0.59      0.56        30\n",
            "weighted avg       0.61      0.57      0.56        30\n",
            "\n"
          ]
        }
      ]
    },
    {
      "cell_type": "code",
      "source": [
        "import matplotlib.pyplot as plt\n",
        "from sklearn.metrics import confusion_matrix, ConfusionMatrixDisplay\n",
        "\n",
        "disp = ConfusionMatrixDisplay(confusion_matrix=conf_mat,\n",
        "                              display_labels=clf.classes_)\n",
        "disp.plot()\n",
        "\n",
        "plt.show()"
      ],
      "metadata": {
        "colab": {
          "base_uri": "https://localhost:8080/",
          "height": 283
        },
        "id": "zqZ_HR9Ef483",
        "outputId": "917c1c1c-4998-4ab0-f697-59a3106c82a4"
      },
      "execution_count": 10,
      "outputs": [
        {
          "output_type": "display_data",
          "data": {
            "text/plain": [
              "<Figure size 432x288 with 2 Axes>"
            ],
            "image/png": "[encoded data removed]"
          },
          "metadata": {
            "needs_background": "light"
          }
        }
      ]
    },
    {
      "cell_type": "code",
      "source": [
        "from sklearn.tree import export_graphviz\n",
        "import graphviz\n",
        "\n",
        "# Visualize the decision tree\n",
        "dot_data = export_graphviz(clf, out_file=None, feature_names=X.columns, class_names=[\"No\", \"Yes\"], filled=True, rounded=True, special_characters=True)\n",
        "graph = graphviz.Source(dot_data)\n",
        "graph"
      ],
      "metadata": {
        "colab": {
          "base_uri": "https://localhost:8080/",
          "height": 1000
        },
        "id": "i34duCGHf7Y-",
        "outputId": "d32c4501-654a-4860-af3d-5929b27d986a"
      },
      "execution_count": 12,
      "outputs": [
        {
          "output_type": "execute_result",
          "data": {
            "text/plain": [
              "<graphviz.files.Source at 0x7f7981f13e50>"
            ],
            "image/svg+xml": "<?xml version=\"1.0\" encoding=\"UTF-8\" standalone=\"no\"?>\n<!DOCTYPE svg PUBLIC \"-//W3C//DTD SVG 1.1//EN\"\n \"http://www.w3.org/Graphics/SVG/1.1/DTD/svg11.dtd\">\n<!-- Generated by graphviz version 2.43.0 (0)\n -->\n<!-- Title: Tree Pages: 1 -->\n<svg width=\"1016pt\" height=\"1266pt\"\n viewBox=\"0.00 0.00 1016.00 1266.00\" xmlns=\"http://www.w3.org/2000/svg\" xmlns:xlink=\"http://www.w3.org/1999/xlink\">\n<g id=\"graph0\" class=\"graph\" transform=\"scale(1 1) rotate(0) translate(4 1262)\">\n<title>Tree</title>\n<polygon fill=\"white\" stroke=\"transparent\" points=\"-4,4 -4,-1262 1012,-1262 1012,4 -4,4\"/>\n<!-- 0 -->\n<g id=\"node1\" class=\"node\">\n<title>0</title>\n<path fill=\"#f4fafe\" stroke=\"black\" d=\"M578,-1258C578,-1258 411,-1258 411,-1258 405,-1258 399,-1252 399,-1246 399,-1246 399,-1187 399,-1187 399,-1181 405,-1175 411,-1175 411,-1175 578,-1175 578,-1175 584,-1175 590,-1181 590,-1187 590,-1187 590,-1246 590,-1246 590,-1252 584,-1258 578,-1258\"/>\n<text text-anchor=\"start\" x=\"407\" y=\"-1242.8\" font-family=\"Helvetica,sans-Serif\" font-size=\"14.00\">estimated_salary ≤ 104852.0</text>\n<text text-anchor=\"start\" x=\"466.5\" y=\"-1227.8\" font-family=\"Helvetica,sans-Serif\" font-size=\"14.00\">gini = 0.5</text>\n<text text-anchor=\"start\" x=\"453.5\" y=\"-1212.8\" font-family=\"Helvetica,sans-Serif\" font-size=\"14.00\">samples = 70</text>\n<text text-anchor=\"start\" x=\"447.5\" y=\"-1197.8\" font-family=\"Helvetica,sans-Serif\" font-size=\"14.00\">value = [34, 36]</text>\n<text text-anchor=\"start\" x=\"459.5\" y=\"-1182.8\" font-family=\"Helvetica,sans-Serif\" font-size=\"14.00\">class = Yes</text>\n</g>\n<!-- 1 -->\n<g id=\"node2\" class=\"node\">\n<title>1</title>\n<path fill=\"#fcf0e8\" stroke=\"black\" d=\"M498,-1139C498,-1139 331,-1139 331,-1139 325,-1139 319,-1133 319,-1127 319,-1127 319,-1068 319,-1068 319,-1062 325,-1056 331,-1056 331,-1056 498,-1056 498,-1056 504,-1056 510,-1062 510,-1068 510,-1068 510,-1127 510,-1127 510,-1133 504,-1139 498,-1139\"/>\n<text text-anchor=\"start\" x=\"327\" y=\"-1123.8\" font-family=\"Helvetica,sans-Serif\" font-size=\"14.00\">estimated_salary ≤ 100479.0</text>\n<text text-anchor=\"start\" x=\"379\" y=\"-1108.8\" font-family=\"Helvetica,sans-Serif\" font-size=\"14.00\">gini = 0.498</text>\n<text text-anchor=\"start\" x=\"373.5\" y=\"-1093.8\" font-family=\"Helvetica,sans-Serif\" font-size=\"14.00\">samples = 64</text>\n<text text-anchor=\"start\" x=\"367.5\" y=\"-1078.8\" font-family=\"Helvetica,sans-Serif\" font-size=\"14.00\">value = [34, 30]</text>\n<text text-anchor=\"start\" x=\"382.5\" y=\"-1063.8\" font-family=\"Helvetica,sans-Serif\" font-size=\"14.00\">class = No</text>\n</g>\n<!-- 0&#45;&gt;1 -->\n<g id=\"edge1\" class=\"edge\">\n<title>0&#45;&gt;1</title>\n<path fill=\"none\" stroke=\"black\" d=\"M466.74,-1174.91C460.66,-1166.01 454.16,-1156.51 447.89,-1147.33\"/>\n<polygon fill=\"black\" stroke=\"black\" points=\"450.74,-1145.3 442.21,-1139.02 444.96,-1149.25 450.74,-1145.3\"/>\n<text text-anchor=\"middle\" x=\"437.59\" y=\"-1159.89\" font-family=\"Helvetica,sans-Serif\" font-size=\"14.00\">True</text>\n</g>\n<!-- 34 -->\n<g id=\"node35\" class=\"node\">\n<title>34</title>\n<path fill=\"#399de5\" stroke=\"black\" d=\"M611,-1131.5C611,-1131.5 540,-1131.5 540,-1131.5 534,-1131.5 528,-1125.5 528,-1119.5 528,-1119.5 528,-1075.5 528,-1075.5 528,-1069.5 534,-1063.5 540,-1063.5 540,-1063.5 611,-1063.5 611,-1063.5 617,-1063.5 623,-1069.5 623,-1075.5 623,-1075.5 623,-1119.5 623,-1119.5 623,-1125.5 617,-1131.5 611,-1131.5\"/>\n<text text-anchor=\"start\" x=\"547.5\" y=\"-1116.3\" font-family=\"Helvetica,sans-Serif\" font-size=\"14.00\">gini = 0.0</text>\n<text text-anchor=\"start\" x=\"538\" y=\"-1101.3\" font-family=\"Helvetica,sans-Serif\" font-size=\"14.00\">samples = 6</text>\n<text text-anchor=\"start\" x=\"536\" y=\"-1086.3\" font-family=\"Helvetica,sans-Serif\" font-size=\"14.00\">value = [0, 6]</text>\n<text text-anchor=\"start\" x=\"540.5\" y=\"-1071.3\" font-family=\"Helvetica,sans-Serif\" font-size=\"14.00\">class = Yes</text>\n</g>\n<!-- 0&#45;&gt;34 -->\n<g id=\"edge34\" class=\"edge\">\n<title>0&#45;&gt;34</title>\n<path fill=\"none\" stroke=\"black\" d=\"M522.6,-1174.91C530.39,-1163.65 538.86,-1151.42 546.7,-1140.11\"/>\n<polygon fill=\"black\" stroke=\"black\" points=\"549.72,-1141.88 552.54,-1131.67 543.97,-1137.9 549.72,-1141.88\"/>\n<text text-anchor=\"middle\" x=\"557.01\" y=\"-1152.56\" font-family=\"Helvetica,sans-Serif\" font-size=\"14.00\">False</text>\n</g>\n<!-- 2 -->\n<g id=\"node3\" class=\"node\">\n<title>2</title>\n<path fill=\"#f2f8fd\" stroke=\"black\" d=\"M399.5,-1020C399.5,-1020 303.5,-1020 303.5,-1020 297.5,-1020 291.5,-1014 291.5,-1008 291.5,-1008 291.5,-949 291.5,-949 291.5,-943 297.5,-937 303.5,-937 303.5,-937 399.5,-937 399.5,-937 405.5,-937 411.5,-943 411.5,-949 411.5,-949 411.5,-1008 411.5,-1008 411.5,-1014 405.5,-1020 399.5,-1020\"/>\n<text text-anchor=\"start\" x=\"299.5\" y=\"-1004.8\" font-family=\"Helvetica,sans-Serif\" font-size=\"14.00\">balance ≤ 6249.5</text>\n<text text-anchor=\"start\" x=\"316\" y=\"-989.8\" font-family=\"Helvetica,sans-Serif\" font-size=\"14.00\">gini = 0.499</text>\n<text text-anchor=\"start\" x=\"310.5\" y=\"-974.8\" font-family=\"Helvetica,sans-Serif\" font-size=\"14.00\">samples = 58</text>\n<text text-anchor=\"start\" x=\"304.5\" y=\"-959.8\" font-family=\"Helvetica,sans-Serif\" font-size=\"14.00\">value = [28, 30]</text>\n<text text-anchor=\"start\" x=\"316.5\" y=\"-944.8\" font-family=\"Helvetica,sans-Serif\" font-size=\"14.00\">class = Yes</text>\n</g>\n<!-- 1&#45;&gt;2 -->\n<g id=\"edge2\" class=\"edge\">\n<title>1&#45;&gt;2</title>\n<path fill=\"none\" stroke=\"black\" d=\"M392.64,-1055.91C387.95,-1047.2 382.94,-1037.9 378.1,-1028.89\"/>\n<polygon fill=\"black\" stroke=\"black\" points=\"381.14,-1027.17 373.32,-1020.02 374.98,-1030.48 381.14,-1027.17\"/>\n</g>\n<!-- 33 -->\n<g id=\"node34\" class=\"node\">\n<title>33</title>\n<path fill=\"#e58139\" stroke=\"black\" d=\"M513,-1012.5C513,-1012.5 442,-1012.5 442,-1012.5 436,-1012.5 430,-1006.5 430,-1000.5 430,-1000.5 430,-956.5 430,-956.5 430,-950.5 436,-944.5 442,-944.5 442,-944.5 513,-944.5 513,-944.5 519,-944.5 525,-950.5 525,-956.5 525,-956.5 525,-1000.5 525,-1000.5 525,-1006.5 519,-1012.5 513,-1012.5\"/>\n<text text-anchor=\"start\" x=\"449.5\" y=\"-997.3\" font-family=\"Helvetica,sans-Serif\" font-size=\"14.00\">gini = 0.0</text>\n<text text-anchor=\"start\" x=\"440\" y=\"-982.3\" font-family=\"Helvetica,sans-Serif\" font-size=\"14.00\">samples = 6</text>\n<text text-anchor=\"start\" x=\"438\" y=\"-967.3\" font-family=\"Helvetica,sans-Serif\" font-size=\"14.00\">value = [6, 0]</text>\n<text text-anchor=\"start\" x=\"445.5\" y=\"-952.3\" font-family=\"Helvetica,sans-Serif\" font-size=\"14.00\">class = No</text>\n</g>\n<!-- 1&#45;&gt;33 -->\n<g id=\"edge33\" class=\"edge\">\n<title>1&#45;&gt;33</title>\n<path fill=\"none\" stroke=\"black\" d=\"M436.36,-1055.91C442.3,-1044.87 448.75,-1032.9 454.74,-1021.77\"/>\n<polygon fill=\"black\" stroke=\"black\" points=\"457.98,-1023.13 459.64,-1012.67 451.82,-1019.81 457.98,-1023.13\"/>\n</g>\n<!-- 3 -->\n<g id=\"node4\" class=\"node\">\n<title>3</title>\n<path fill=\"#f1ba93\" stroke=\"black\" d=\"M338,-901C338,-901 221,-901 221,-901 215,-901 209,-895 209,-889 209,-889 209,-830 209,-830 209,-824 215,-818 221,-818 221,-818 338,-818 338,-818 344,-818 350,-824 350,-830 350,-830 350,-889 350,-889 350,-895 344,-901 338,-901\"/>\n<text text-anchor=\"start\" x=\"217\" y=\"-885.8\" font-family=\"Helvetica,sans-Serif\" font-size=\"14.00\">online_banking ≤ 0.5</text>\n<text text-anchor=\"start\" x=\"247.5\" y=\"-870.8\" font-family=\"Helvetica,sans-Serif\" font-size=\"14.00\">gini = 0.43</text>\n<text text-anchor=\"start\" x=\"238.5\" y=\"-855.8\" font-family=\"Helvetica,sans-Serif\" font-size=\"14.00\">samples = 16</text>\n<text text-anchor=\"start\" x=\"236.5\" y=\"-840.8\" font-family=\"Helvetica,sans-Serif\" font-size=\"14.00\">value = [11, 5]</text>\n<text text-anchor=\"start\" x=\"247.5\" y=\"-825.8\" font-family=\"Helvetica,sans-Serif\" font-size=\"14.00\">class = No</text>\n</g>\n<!-- 2&#45;&gt;3 -->\n<g id=\"edge3\" class=\"edge\">\n<title>2&#45;&gt;3</title>\n<path fill=\"none\" stroke=\"black\" d=\"M326.52,-936.91C321.1,-928.1 315.32,-918.7 309.72,-909.61\"/>\n<polygon fill=\"black\" stroke=\"black\" points=\"312.66,-907.7 304.44,-901.02 306.7,-911.37 312.66,-907.7\"/>\n</g>\n<!-- 10 -->\n<g id=\"node11\" class=\"node\">\n<title>10</title>\n<path fill=\"#c0e0f7\" stroke=\"black\" d=\"M466.5,-901C466.5,-901 380.5,-901 380.5,-901 374.5,-901 368.5,-895 368.5,-889 368.5,-889 368.5,-830 368.5,-830 368.5,-824 374.5,-818 380.5,-818 380.5,-818 466.5,-818 466.5,-818 472.5,-818 478.5,-824 478.5,-830 478.5,-830 478.5,-889 478.5,-889 478.5,-895 472.5,-901 466.5,-901\"/>\n<text text-anchor=\"start\" x=\"391.5\" y=\"-885.8\" font-family=\"Helvetica,sans-Serif\" font-size=\"14.00\">age ≤ 24.5</text>\n<text text-anchor=\"start\" x=\"388\" y=\"-870.8\" font-family=\"Helvetica,sans-Serif\" font-size=\"14.00\">gini = 0.482</text>\n<text text-anchor=\"start\" x=\"382.5\" y=\"-855.8\" font-family=\"Helvetica,sans-Serif\" font-size=\"14.00\">samples = 42</text>\n<text text-anchor=\"start\" x=\"376.5\" y=\"-840.8\" font-family=\"Helvetica,sans-Serif\" font-size=\"14.00\">value = [17, 25]</text>\n<text text-anchor=\"start\" x=\"388.5\" y=\"-825.8\" font-family=\"Helvetica,sans-Serif\" font-size=\"14.00\">class = Yes</text>\n</g>\n<!-- 2&#45;&gt;10 -->\n<g id=\"edge10\" class=\"edge\">\n<title>2&#45;&gt;10</title>\n<path fill=\"none\" stroke=\"black\" d=\"M376.48,-936.91C381.9,-928.1 387.68,-918.7 393.28,-909.61\"/>\n<polygon fill=\"black\" stroke=\"black\" points=\"396.3,-911.37 398.56,-901.02 390.34,-907.7 396.3,-911.37\"/>\n</g>\n<!-- 4 -->\n<g id=\"node5\" class=\"node\">\n<title>4</title>\n<path fill=\"#d7ebfa\" stroke=\"black\" d=\"M203.5,-782C203.5,-782 123.5,-782 123.5,-782 117.5,-782 111.5,-776 111.5,-770 111.5,-770 111.5,-711 111.5,-711 111.5,-705 117.5,-699 123.5,-699 123.5,-699 203.5,-699 203.5,-699 209.5,-699 215.5,-705 215.5,-711 215.5,-711 215.5,-770 215.5,-770 215.5,-776 209.5,-782 203.5,-782\"/>\n<text text-anchor=\"start\" x=\"119.5\" y=\"-766.8\" font-family=\"Helvetica,sans-Serif\" font-size=\"14.00\">tenure ≤ 103.0</text>\n<text text-anchor=\"start\" x=\"128\" y=\"-751.8\" font-family=\"Helvetica,sans-Serif\" font-size=\"14.00\">gini = 0.494</text>\n<text text-anchor=\"start\" x=\"126\" y=\"-736.8\" font-family=\"Helvetica,sans-Serif\" font-size=\"14.00\">samples = 9</text>\n<text text-anchor=\"start\" x=\"124\" y=\"-721.8\" font-family=\"Helvetica,sans-Serif\" font-size=\"14.00\">value = [4, 5]</text>\n<text text-anchor=\"start\" x=\"128.5\" y=\"-706.8\" font-family=\"Helvetica,sans-Serif\" font-size=\"14.00\">class = Yes</text>\n</g>\n<!-- 3&#45;&gt;4 -->\n<g id=\"edge4\" class=\"edge\">\n<title>3&#45;&gt;4</title>\n<path fill=\"none\" stroke=\"black\" d=\"M239.25,-817.91C230.08,-808.65 220.24,-798.73 210.8,-789.21\"/>\n<polygon fill=\"black\" stroke=\"black\" points=\"213.2,-786.66 203.67,-782.02 208.23,-791.59 213.2,-786.66\"/>\n</g>\n<!-- 9 -->\n<g id=\"node10\" class=\"node\">\n<title>9</title>\n<path fill=\"#e58139\" stroke=\"black\" d=\"M317,-774.5C317,-774.5 246,-774.5 246,-774.5 240,-774.5 234,-768.5 234,-762.5 234,-762.5 234,-718.5 234,-718.5 234,-712.5 240,-706.5 246,-706.5 246,-706.5 317,-706.5 317,-706.5 323,-706.5 329,-712.5 329,-718.5 329,-718.5 329,-762.5 329,-762.5 329,-768.5 323,-774.5 317,-774.5\"/>\n<text text-anchor=\"start\" x=\"253.5\" y=\"-759.3\" font-family=\"Helvetica,sans-Serif\" font-size=\"14.00\">gini = 0.0</text>\n<text text-anchor=\"start\" x=\"244\" y=\"-744.3\" font-family=\"Helvetica,sans-Serif\" font-size=\"14.00\">samples = 7</text>\n<text text-anchor=\"start\" x=\"242\" y=\"-729.3\" font-family=\"Helvetica,sans-Serif\" font-size=\"14.00\">value = [7, 0]</text>\n<text text-anchor=\"start\" x=\"249.5\" y=\"-714.3\" font-family=\"Helvetica,sans-Serif\" font-size=\"14.00\">class = No</text>\n</g>\n<!-- 3&#45;&gt;9 -->\n<g id=\"edge9\" class=\"edge\">\n<title>3&#45;&gt;9</title>\n<path fill=\"none\" stroke=\"black\" d=\"M280.19,-817.91C280.38,-807.2 280.57,-795.62 280.76,-784.78\"/>\n<polygon fill=\"black\" stroke=\"black\" points=\"284.26,-784.73 280.93,-774.67 277.26,-784.61 284.26,-784.73\"/>\n</g>\n<!-- 5 -->\n<g id=\"node6\" class=\"node\">\n<title>5</title>\n<path fill=\"#399de5\" stroke=\"black\" d=\"M83,-655.5C83,-655.5 12,-655.5 12,-655.5 6,-655.5 0,-649.5 0,-643.5 0,-643.5 0,-599.5 0,-599.5 0,-593.5 6,-587.5 12,-587.5 12,-587.5 83,-587.5 83,-587.5 89,-587.5 95,-593.5 95,-599.5 95,-599.5 95,-643.5 95,-643.5 95,-649.5 89,-655.5 83,-655.5\"/>\n<text text-anchor=\"start\" x=\"19.5\" y=\"-640.3\" font-family=\"Helvetica,sans-Serif\" font-size=\"14.00\">gini = 0.0</text>\n<text text-anchor=\"start\" x=\"10\" y=\"-625.3\" font-family=\"Helvetica,sans-Serif\" font-size=\"14.00\">samples = 4</text>\n<text text-anchor=\"start\" x=\"8\" y=\"-610.3\" font-family=\"Helvetica,sans-Serif\" font-size=\"14.00\">value = [0, 4]</text>\n<text text-anchor=\"start\" x=\"12.5\" y=\"-595.3\" font-family=\"Helvetica,sans-Serif\" font-size=\"14.00\">class = Yes</text>\n</g>\n<!-- 4&#45;&gt;5 -->\n<g id=\"edge5\" class=\"edge\">\n<title>4&#45;&gt;5</title>\n<path fill=\"none\" stroke=\"black\" d=\"M123.25,-698.91C111.66,-687.21 99.01,-674.46 87.44,-662.78\"/>\n<polygon fill=\"black\" stroke=\"black\" points=\"89.91,-660.3 80.38,-655.67 84.94,-665.23 89.91,-660.3\"/>\n</g>\n<!-- 6 -->\n<g id=\"node7\" class=\"node\">\n<title>6</title>\n<path fill=\"#eca06a\" stroke=\"black\" d=\"M221.5,-663C221.5,-663 125.5,-663 125.5,-663 119.5,-663 113.5,-657 113.5,-651 113.5,-651 113.5,-592 113.5,-592 113.5,-586 119.5,-580 125.5,-580 125.5,-580 221.5,-580 221.5,-580 227.5,-580 233.5,-586 233.5,-592 233.5,-592 233.5,-651 233.5,-651 233.5,-657 227.5,-663 221.5,-663\"/>\n<text text-anchor=\"start\" x=\"121.5\" y=\"-647.8\" font-family=\"Helvetica,sans-Serif\" font-size=\"14.00\">balance ≤ 2916.5</text>\n<text text-anchor=\"start\" x=\"141.5\" y=\"-632.8\" font-family=\"Helvetica,sans-Serif\" font-size=\"14.00\">gini = 0.32</text>\n<text text-anchor=\"start\" x=\"136\" y=\"-617.8\" font-family=\"Helvetica,sans-Serif\" font-size=\"14.00\">samples = 5</text>\n<text text-anchor=\"start\" x=\"134\" y=\"-602.8\" font-family=\"Helvetica,sans-Serif\" font-size=\"14.00\">value = [4, 1]</text>\n<text text-anchor=\"start\" x=\"141.5\" y=\"-587.8\" font-family=\"Helvetica,sans-Serif\" font-size=\"14.00\">class = No</text>\n</g>\n<!-- 4&#45;&gt;6 -->\n<g id=\"edge6\" class=\"edge\">\n<title>4&#45;&gt;6</title>\n<path fill=\"none\" stroke=\"black\" d=\"M166.97,-698.91C167.68,-690.56 168.44,-681.67 169.18,-673.02\"/>\n<polygon fill=\"black\" stroke=\"black\" points=\"172.67,-673.28 170.04,-663.02 165.7,-672.69 172.67,-673.28\"/>\n</g>\n<!-- 7 -->\n<g id=\"node8\" class=\"node\">\n<title>7</title>\n<path fill=\"#399de5\" stroke=\"black\" d=\"M153,-536.5C153,-536.5 82,-536.5 82,-536.5 76,-536.5 70,-530.5 70,-524.5 70,-524.5 70,-480.5 70,-480.5 70,-474.5 76,-468.5 82,-468.5 82,-468.5 153,-468.5 153,-468.5 159,-468.5 165,-474.5 165,-480.5 165,-480.5 165,-524.5 165,-524.5 165,-530.5 159,-536.5 153,-536.5\"/>\n<text text-anchor=\"start\" x=\"89.5\" y=\"-521.3\" font-family=\"Helvetica,sans-Serif\" font-size=\"14.00\">gini = 0.0</text>\n<text text-anchor=\"start\" x=\"80\" y=\"-506.3\" font-family=\"Helvetica,sans-Serif\" font-size=\"14.00\">samples = 1</text>\n<text text-anchor=\"start\" x=\"78\" y=\"-491.3\" font-family=\"Helvetica,sans-Serif\" font-size=\"14.00\">value = [0, 1]</text>\n<text text-anchor=\"start\" x=\"82.5\" y=\"-476.3\" font-family=\"Helvetica,sans-Serif\" font-size=\"14.00\">class = Yes</text>\n</g>\n<!-- 6&#45;&gt;7 -->\n<g id=\"edge7\" class=\"edge\">\n<title>6&#45;&gt;7</title>\n<path fill=\"none\" stroke=\"black\" d=\"M154.07,-579.91C148.79,-568.87 143.06,-556.9 137.73,-545.77\"/>\n<polygon fill=\"black\" stroke=\"black\" points=\"140.85,-544.18 133.37,-536.67 134.54,-547.2 140.85,-544.18\"/>\n</g>\n<!-- 8 -->\n<g id=\"node9\" class=\"node\">\n<title>8</title>\n<path fill=\"#e58139\" stroke=\"black\" d=\"M266,-536.5C266,-536.5 195,-536.5 195,-536.5 189,-536.5 183,-530.5 183,-524.5 183,-524.5 183,-480.5 183,-480.5 183,-474.5 189,-468.5 195,-468.5 195,-468.5 266,-468.5 266,-468.5 272,-468.5 278,-474.5 278,-480.5 278,-480.5 278,-524.5 278,-524.5 278,-530.5 272,-536.5 266,-536.5\"/>\n<text text-anchor=\"start\" x=\"202.5\" y=\"-521.3\" font-family=\"Helvetica,sans-Serif\" font-size=\"14.00\">gini = 0.0</text>\n<text text-anchor=\"start\" x=\"193\" y=\"-506.3\" font-family=\"Helvetica,sans-Serif\" font-size=\"14.00\">samples = 4</text>\n<text text-anchor=\"start\" x=\"191\" y=\"-491.3\" font-family=\"Helvetica,sans-Serif\" font-size=\"14.00\">value = [4, 0]</text>\n<text text-anchor=\"start\" x=\"198.5\" y=\"-476.3\" font-family=\"Helvetica,sans-Serif\" font-size=\"14.00\">class = No</text>\n</g>\n<!-- 6&#45;&gt;8 -->\n<g id=\"edge8\" class=\"edge\">\n<title>6&#45;&gt;8</title>\n<path fill=\"none\" stroke=\"black\" d=\"M193.28,-579.91C198.65,-568.87 204.49,-556.9 209.91,-545.77\"/>\n<polygon fill=\"black\" stroke=\"black\" points=\"213.11,-547.19 214.34,-536.67 206.82,-544.12 213.11,-547.19\"/>\n</g>\n<!-- 11 -->\n<g id=\"node12\" class=\"node\">\n<title>11</title>\n<path fill=\"#eca06a\" stroke=\"black\" d=\"M482.5,-782C482.5,-782 362.5,-782 362.5,-782 356.5,-782 350.5,-776 350.5,-770 350.5,-770 350.5,-711 350.5,-711 350.5,-705 356.5,-699 362.5,-699 362.5,-699 482.5,-699 482.5,-699 488.5,-699 494.5,-705 494.5,-711 494.5,-711 494.5,-770 494.5,-770 494.5,-776 488.5,-782 482.5,-782\"/>\n<text text-anchor=\"start\" x=\"358.5\" y=\"-766.8\" font-family=\"Helvetica,sans-Serif\" font-size=\"14.00\">active_member ≤ 0.5</text>\n<text text-anchor=\"start\" x=\"390.5\" y=\"-751.8\" font-family=\"Helvetica,sans-Serif\" font-size=\"14.00\">gini = 0.32</text>\n<text text-anchor=\"start\" x=\"385\" y=\"-736.8\" font-family=\"Helvetica,sans-Serif\" font-size=\"14.00\">samples = 5</text>\n<text text-anchor=\"start\" x=\"383\" y=\"-721.8\" font-family=\"Helvetica,sans-Serif\" font-size=\"14.00\">value = [4, 1]</text>\n<text text-anchor=\"start\" x=\"390.5\" y=\"-706.8\" font-family=\"Helvetica,sans-Serif\" font-size=\"14.00\">class = No</text>\n</g>\n<!-- 10&#45;&gt;11 -->\n<g id=\"edge11\" class=\"edge\">\n<title>10&#45;&gt;11</title>\n<path fill=\"none\" stroke=\"black\" d=\"M423.15,-817.91C423.08,-809.65 423.01,-800.86 422.93,-792.3\"/>\n<polygon fill=\"black\" stroke=\"black\" points=\"426.43,-791.99 422.85,-782.02 419.43,-792.05 426.43,-791.99\"/>\n</g>\n<!-- 14 -->\n<g id=\"node15\" class=\"node\">\n<title>14</title>\n<path fill=\"#a4d2f3\" stroke=\"black\" d=\"M610.5,-782C610.5,-782 524.5,-782 524.5,-782 518.5,-782 512.5,-776 512.5,-770 512.5,-770 512.5,-711 512.5,-711 512.5,-705 518.5,-699 524.5,-699 524.5,-699 610.5,-699 610.5,-699 616.5,-699 622.5,-705 622.5,-711 622.5,-711 622.5,-770 622.5,-770 622.5,-776 616.5,-782 610.5,-782\"/>\n<text text-anchor=\"start\" x=\"535.5\" y=\"-766.8\" font-family=\"Helvetica,sans-Serif\" font-size=\"14.00\">age ≤ 37.5</text>\n<text text-anchor=\"start\" x=\"532\" y=\"-751.8\" font-family=\"Helvetica,sans-Serif\" font-size=\"14.00\">gini = 0.456</text>\n<text text-anchor=\"start\" x=\"526.5\" y=\"-736.8\" font-family=\"Helvetica,sans-Serif\" font-size=\"14.00\">samples = 37</text>\n<text text-anchor=\"start\" x=\"520.5\" y=\"-721.8\" font-family=\"Helvetica,sans-Serif\" font-size=\"14.00\">value = [13, 24]</text>\n<text text-anchor=\"start\" x=\"532.5\" y=\"-706.8\" font-family=\"Helvetica,sans-Serif\" font-size=\"14.00\">class = Yes</text>\n</g>\n<!-- 10&#45;&gt;14 -->\n<g id=\"edge14\" class=\"edge\">\n<title>10&#45;&gt;14</title>\n<path fill=\"none\" stroke=\"black\" d=\"M473.46,-817.91C485.19,-808.38 497.78,-798.15 509.81,-788.37\"/>\n<polygon fill=\"black\" stroke=\"black\" points=\"512.07,-791.04 517.63,-782.02 507.66,-785.61 512.07,-791.04\"/>\n</g>\n<!-- 12 -->\n<g id=\"node13\" class=\"node\">\n<title>12</title>\n<path fill=\"#399de5\" stroke=\"black\" d=\"M348,-655.5C348,-655.5 277,-655.5 277,-655.5 271,-655.5 265,-649.5 265,-643.5 265,-643.5 265,-599.5 265,-599.5 265,-593.5 271,-587.5 277,-587.5 277,-587.5 348,-587.5 348,-587.5 354,-587.5 360,-593.5 360,-599.5 360,-599.5 360,-643.5 360,-643.5 360,-649.5 354,-655.5 348,-655.5\"/>\n<text text-anchor=\"start\" x=\"284.5\" y=\"-640.3\" font-family=\"Helvetica,sans-Serif\" font-size=\"14.00\">gini = 0.0</text>\n<text text-anchor=\"start\" x=\"275\" y=\"-625.3\" font-family=\"Helvetica,sans-Serif\" font-size=\"14.00\">samples = 1</text>\n<text text-anchor=\"start\" x=\"273\" y=\"-610.3\" font-family=\"Helvetica,sans-Serif\" font-size=\"14.00\">value = [0, 1]</text>\n<text text-anchor=\"start\" x=\"277.5\" y=\"-595.3\" font-family=\"Helvetica,sans-Serif\" font-size=\"14.00\">class = Yes</text>\n</g>\n<!-- 11&#45;&gt;12 -->\n<g id=\"edge12\" class=\"edge\">\n<title>11&#45;&gt;12</title>\n<path fill=\"none\" stroke=\"black\" d=\"M384.34,-698.91C373.44,-687.32 361.57,-674.7 350.68,-663.11\"/>\n<polygon fill=\"black\" stroke=\"black\" points=\"353.08,-660.56 343.68,-655.67 347.98,-665.35 353.08,-660.56\"/>\n</g>\n<!-- 13 -->\n<g id=\"node14\" class=\"node\">\n<title>13</title>\n<path fill=\"#e58139\" stroke=\"black\" d=\"M461,-655.5C461,-655.5 390,-655.5 390,-655.5 384,-655.5 378,-649.5 378,-643.5 378,-643.5 378,-599.5 378,-599.5 378,-593.5 384,-587.5 390,-587.5 390,-587.5 461,-587.5 461,-587.5 467,-587.5 473,-593.5 473,-599.5 473,-599.5 473,-643.5 473,-643.5 473,-649.5 467,-655.5 461,-655.5\"/>\n<text text-anchor=\"start\" x=\"397.5\" y=\"-640.3\" font-family=\"Helvetica,sans-Serif\" font-size=\"14.00\">gini = 0.0</text>\n<text text-anchor=\"start\" x=\"388\" y=\"-625.3\" font-family=\"Helvetica,sans-Serif\" font-size=\"14.00\">samples = 4</text>\n<text text-anchor=\"start\" x=\"386\" y=\"-610.3\" font-family=\"Helvetica,sans-Serif\" font-size=\"14.00\">value = [4, 0]</text>\n<text text-anchor=\"start\" x=\"393.5\" y=\"-595.3\" font-family=\"Helvetica,sans-Serif\" font-size=\"14.00\">class = No</text>\n</g>\n<!-- 11&#45;&gt;13 -->\n<g id=\"edge13\" class=\"edge\">\n<title>11&#45;&gt;13</title>\n<path fill=\"none\" stroke=\"black\" d=\"M423.54,-698.91C423.82,-688.2 424.11,-676.62 424.39,-665.78\"/>\n<polygon fill=\"black\" stroke=\"black\" points=\"427.89,-665.75 424.65,-655.67 420.89,-665.57 427.89,-665.75\"/>\n</g>\n<!-- 15 -->\n<g id=\"node16\" class=\"node\">\n<title>15</title>\n<path fill=\"#52a9e8\" stroke=\"black\" d=\"M623,-663C623,-663 508,-663 508,-663 502,-663 496,-657 496,-651 496,-651 496,-592 496,-592 496,-586 502,-580 508,-580 508,-580 623,-580 623,-580 629,-580 635,-586 635,-592 635,-592 635,-651 635,-651 635,-657 629,-663 623,-663\"/>\n<text text-anchor=\"start\" x=\"504\" y=\"-647.8\" font-family=\"Helvetica,sans-Serif\" font-size=\"14.00\">credit_score ≤ 726.0</text>\n<text text-anchor=\"start\" x=\"530\" y=\"-632.8\" font-family=\"Helvetica,sans-Serif\" font-size=\"14.00\">gini = 0.198</text>\n<text text-anchor=\"start\" x=\"528\" y=\"-617.8\" font-family=\"Helvetica,sans-Serif\" font-size=\"14.00\">samples = 9</text>\n<text text-anchor=\"start\" x=\"526\" y=\"-602.8\" font-family=\"Helvetica,sans-Serif\" font-size=\"14.00\">value = [1, 8]</text>\n<text text-anchor=\"start\" x=\"530.5\" y=\"-587.8\" font-family=\"Helvetica,sans-Serif\" font-size=\"14.00\">class = Yes</text>\n</g>\n<!-- 14&#45;&gt;15 -->\n<g id=\"edge15\" class=\"edge\">\n<title>14&#45;&gt;15</title>\n<path fill=\"none\" stroke=\"black\" d=\"M566.81,-698.91C566.66,-690.56 566.51,-681.67 566.36,-673.02\"/>\n<polygon fill=\"black\" stroke=\"black\" points=\"569.86,-672.96 566.19,-663.02 562.86,-673.08 569.86,-672.96\"/>\n</g>\n<!-- 18 -->\n<g id=\"node19\" class=\"node\">\n<title>18</title>\n<path fill=\"#cee6f8\" stroke=\"black\" d=\"M780,-663C780,-663 665,-663 665,-663 659,-663 653,-657 653,-651 653,-651 653,-592 653,-592 653,-586 659,-580 665,-580 665,-580 780,-580 780,-580 786,-580 792,-586 792,-592 792,-592 792,-651 792,-651 792,-657 786,-663 780,-663\"/>\n<text text-anchor=\"start\" x=\"661\" y=\"-647.8\" font-family=\"Helvetica,sans-Serif\" font-size=\"14.00\">credit_score ≤ 657.0</text>\n<text text-anchor=\"start\" x=\"690.5\" y=\"-632.8\" font-family=\"Helvetica,sans-Serif\" font-size=\"14.00\">gini = 0.49</text>\n<text text-anchor=\"start\" x=\"681.5\" y=\"-617.8\" font-family=\"Helvetica,sans-Serif\" font-size=\"14.00\">samples = 28</text>\n<text text-anchor=\"start\" x=\"675.5\" y=\"-602.8\" font-family=\"Helvetica,sans-Serif\" font-size=\"14.00\">value = [12, 16]</text>\n<text text-anchor=\"start\" x=\"687.5\" y=\"-587.8\" font-family=\"Helvetica,sans-Serif\" font-size=\"14.00\">class = Yes</text>\n</g>\n<!-- 14&#45;&gt;18 -->\n<g id=\"edge18\" class=\"edge\">\n<title>14&#45;&gt;18</title>\n<path fill=\"none\" stroke=\"black\" d=\"M621.28,-698.91C634.02,-689.29 647.71,-678.95 660.78,-669.09\"/>\n<polygon fill=\"black\" stroke=\"black\" points=\"662.95,-671.84 668.82,-663.02 658.73,-666.25 662.95,-671.84\"/>\n</g>\n<!-- 16 -->\n<g id=\"node17\" class=\"node\">\n<title>16</title>\n<path fill=\"#399de5\" stroke=\"black\" d=\"M498,-536.5C498,-536.5 427,-536.5 427,-536.5 421,-536.5 415,-530.5 415,-524.5 415,-524.5 415,-480.5 415,-480.5 415,-474.5 421,-468.5 427,-468.5 427,-468.5 498,-468.5 498,-468.5 504,-468.5 510,-474.5 510,-480.5 510,-480.5 510,-524.5 510,-524.5 510,-530.5 504,-536.5 498,-536.5\"/>\n<text text-anchor=\"start\" x=\"434.5\" y=\"-521.3\" font-family=\"Helvetica,sans-Serif\" font-size=\"14.00\">gini = 0.0</text>\n<text text-anchor=\"start\" x=\"425\" y=\"-506.3\" font-family=\"Helvetica,sans-Serif\" font-size=\"14.00\">samples = 8</text>\n<text text-anchor=\"start\" x=\"423\" y=\"-491.3\" font-family=\"Helvetica,sans-Serif\" font-size=\"14.00\">value = [0, 8]</text>\n<text text-anchor=\"start\" x=\"427.5\" y=\"-476.3\" font-family=\"Helvetica,sans-Serif\" font-size=\"14.00\">class = Yes</text>\n</g>\n<!-- 15&#45;&gt;16 -->\n<g id=\"edge16\" class=\"edge\">\n<title>15&#45;&gt;16</title>\n<path fill=\"none\" stroke=\"black\" d=\"M529.76,-579.91C519.66,-568.43 508.66,-555.94 498.54,-544.44\"/>\n<polygon fill=\"black\" stroke=\"black\" points=\"500.93,-541.86 491.7,-536.67 495.68,-546.49 500.93,-541.86\"/>\n</g>\n<!-- 17 -->\n<g id=\"node18\" class=\"node\">\n<title>17</title>\n<path fill=\"#e58139\" stroke=\"black\" d=\"M611,-536.5C611,-536.5 540,-536.5 540,-536.5 534,-536.5 528,-530.5 528,-524.5 528,-524.5 528,-480.5 528,-480.5 528,-474.5 534,-468.5 540,-468.5 540,-468.5 611,-468.5 611,-468.5 617,-468.5 623,-474.5 623,-480.5 623,-480.5 623,-524.5 623,-524.5 623,-530.5 617,-536.5 611,-536.5\"/>\n<text text-anchor=\"start\" x=\"547.5\" y=\"-521.3\" font-family=\"Helvetica,sans-Serif\" font-size=\"14.00\">gini = 0.0</text>\n<text text-anchor=\"start\" x=\"538\" y=\"-506.3\" font-family=\"Helvetica,sans-Serif\" font-size=\"14.00\">samples = 1</text>\n<text text-anchor=\"start\" x=\"536\" y=\"-491.3\" font-family=\"Helvetica,sans-Serif\" font-size=\"14.00\">value = [1, 0]</text>\n<text text-anchor=\"start\" x=\"543.5\" y=\"-476.3\" font-family=\"Helvetica,sans-Serif\" font-size=\"14.00\">class = No</text>\n</g>\n<!-- 15&#45;&gt;17 -->\n<g id=\"edge17\" class=\"edge\">\n<title>15&#45;&gt;17</title>\n<path fill=\"none\" stroke=\"black\" d=\"M568.97,-579.91C569.88,-569.2 570.87,-557.62 571.8,-546.78\"/>\n<polygon fill=\"black\" stroke=\"black\" points=\"575.3,-546.93 572.67,-536.67 568.33,-546.33 575.3,-546.93\"/>\n</g>\n<!-- 19 -->\n<g id=\"node20\" class=\"node\">\n<title>19</title>\n<path fill=\"#f8ddc9\" stroke=\"black\" d=\"M751.5,-544C751.5,-544 673.5,-544 673.5,-544 667.5,-544 661.5,-538 661.5,-532 661.5,-532 661.5,-473 661.5,-473 661.5,-467 667.5,-461 673.5,-461 673.5,-461 751.5,-461 751.5,-461 757.5,-461 763.5,-467 763.5,-473 763.5,-473 763.5,-532 763.5,-532 763.5,-538 757.5,-544 751.5,-544\"/>\n<text text-anchor=\"start\" x=\"672.5\" y=\"-528.8\" font-family=\"Helvetica,sans-Serif\" font-size=\"14.00\">tenure ≤ 33.5</text>\n<text text-anchor=\"start\" x=\"677\" y=\"-513.8\" font-family=\"Helvetica,sans-Serif\" font-size=\"14.00\">gini = 0.488</text>\n<text text-anchor=\"start\" x=\"671.5\" y=\"-498.8\" font-family=\"Helvetica,sans-Serif\" font-size=\"14.00\">samples = 19</text>\n<text text-anchor=\"start\" x=\"669.5\" y=\"-483.8\" font-family=\"Helvetica,sans-Serif\" font-size=\"14.00\">value = [11, 8]</text>\n<text text-anchor=\"start\" x=\"680.5\" y=\"-468.8\" font-family=\"Helvetica,sans-Serif\" font-size=\"14.00\">class = No</text>\n</g>\n<!-- 18&#45;&gt;19 -->\n<g id=\"edge19\" class=\"edge\">\n<title>18&#45;&gt;19</title>\n<path fill=\"none\" stroke=\"black\" d=\"M719.03,-579.91C718.32,-571.56 717.56,-562.67 716.82,-554.02\"/>\n<polygon fill=\"black\" stroke=\"black\" points=\"720.3,-553.69 715.96,-544.02 713.33,-554.28 720.3,-553.69\"/>\n</g>\n<!-- 30 -->\n<g id=\"node31\" class=\"node\">\n<title>30</title>\n<path fill=\"#52a9e8\" stroke=\"black\" d=\"M909,-544C909,-544 794,-544 794,-544 788,-544 782,-538 782,-532 782,-532 782,-473 782,-473 782,-467 788,-461 794,-461 794,-461 909,-461 909,-461 915,-461 921,-467 921,-473 921,-473 921,-532 921,-532 921,-538 915,-544 909,-544\"/>\n<text text-anchor=\"start\" x=\"790\" y=\"-528.8\" font-family=\"Helvetica,sans-Serif\" font-size=\"14.00\">credit_score ≤ 769.0</text>\n<text text-anchor=\"start\" x=\"816\" y=\"-513.8\" font-family=\"Helvetica,sans-Serif\" font-size=\"14.00\">gini = 0.198</text>\n<text text-anchor=\"start\" x=\"814\" y=\"-498.8\" font-family=\"Helvetica,sans-Serif\" font-size=\"14.00\">samples = 9</text>\n<text text-anchor=\"start\" x=\"812\" y=\"-483.8\" font-family=\"Helvetica,sans-Serif\" font-size=\"14.00\">value = [1, 8]</text>\n<text text-anchor=\"start\" x=\"816.5\" y=\"-468.8\" font-family=\"Helvetica,sans-Serif\" font-size=\"14.00\">class = Yes</text>\n</g>\n<!-- 18&#45;&gt;30 -->\n<g id=\"edge30\" class=\"edge\">\n<title>18&#45;&gt;30</title>\n<path fill=\"none\" stroke=\"black\" d=\"M767.26,-579.91C777.56,-570.56 788.61,-560.54 799.21,-550.93\"/>\n<polygon fill=\"black\" stroke=\"black\" points=\"801.77,-553.33 806.82,-544.02 797.06,-548.15 801.77,-553.33\"/>\n</g>\n<!-- 20 -->\n<g id=\"node21\" class=\"node\">\n<title>20</title>\n<path fill=\"#399de5\" stroke=\"black\" d=\"M625,-417.5C625,-417.5 554,-417.5 554,-417.5 548,-417.5 542,-411.5 542,-405.5 542,-405.5 542,-361.5 542,-361.5 542,-355.5 548,-349.5 554,-349.5 554,-349.5 625,-349.5 625,-349.5 631,-349.5 637,-355.5 637,-361.5 637,-361.5 637,-405.5 637,-405.5 637,-411.5 631,-417.5 625,-417.5\"/>\n<text text-anchor=\"start\" x=\"561.5\" y=\"-402.3\" font-family=\"Helvetica,sans-Serif\" font-size=\"14.00\">gini = 0.0</text>\n<text text-anchor=\"start\" x=\"552\" y=\"-387.3\" font-family=\"Helvetica,sans-Serif\" font-size=\"14.00\">samples = 3</text>\n<text text-anchor=\"start\" x=\"550\" y=\"-372.3\" font-family=\"Helvetica,sans-Serif\" font-size=\"14.00\">value = [0, 3]</text>\n<text text-anchor=\"start\" x=\"554.5\" y=\"-357.3\" font-family=\"Helvetica,sans-Serif\" font-size=\"14.00\">class = Yes</text>\n</g>\n<!-- 19&#45;&gt;20 -->\n<g id=\"edge20\" class=\"edge\">\n<title>19&#45;&gt;20</title>\n<path fill=\"none\" stroke=\"black\" d=\"M669.83,-460.91C657.53,-449.21 644.12,-436.46 631.85,-424.78\"/>\n<polygon fill=\"black\" stroke=\"black\" points=\"634.03,-422.02 624.37,-417.67 629.2,-427.1 634.03,-422.02\"/>\n</g>\n<!-- 21 -->\n<g id=\"node22\" class=\"node\">\n<title>21</title>\n<path fill=\"#f1ba93\" stroke=\"black\" d=\"M763.5,-425C763.5,-425 667.5,-425 667.5,-425 661.5,-425 655.5,-419 655.5,-413 655.5,-413 655.5,-354 655.5,-354 655.5,-348 661.5,-342 667.5,-342 667.5,-342 763.5,-342 763.5,-342 769.5,-342 775.5,-348 775.5,-354 775.5,-354 775.5,-413 775.5,-413 775.5,-419 769.5,-425 763.5,-425\"/>\n<text text-anchor=\"start\" x=\"663.5\" y=\"-409.8\" font-family=\"Helvetica,sans-Serif\" font-size=\"14.00\">balance ≤ 9720.5</text>\n<text text-anchor=\"start\" x=\"683.5\" y=\"-394.8\" font-family=\"Helvetica,sans-Serif\" font-size=\"14.00\">gini = 0.43</text>\n<text text-anchor=\"start\" x=\"674.5\" y=\"-379.8\" font-family=\"Helvetica,sans-Serif\" font-size=\"14.00\">samples = 16</text>\n<text text-anchor=\"start\" x=\"672.5\" y=\"-364.8\" font-family=\"Helvetica,sans-Serif\" font-size=\"14.00\">value = [11, 5]</text>\n<text text-anchor=\"start\" x=\"683.5\" y=\"-349.8\" font-family=\"Helvetica,sans-Serif\" font-size=\"14.00\">class = No</text>\n</g>\n<!-- 19&#45;&gt;21 -->\n<g id=\"edge21\" class=\"edge\">\n<title>19&#45;&gt;21</title>\n<path fill=\"none\" stroke=\"black\" d=\"M713.54,-460.91C713.75,-452.56 713.98,-443.67 714.2,-435.02\"/>\n<polygon fill=\"black\" stroke=\"black\" points=\"717.7,-435.11 714.46,-425.02 710.71,-434.93 717.7,-435.11\"/>\n</g>\n<!-- 22 -->\n<g id=\"node23\" class=\"node\">\n<title>22</title>\n<path fill=\"#9ccef2\" stroke=\"black\" d=\"M707.5,-306C707.5,-306 583.5,-306 583.5,-306 577.5,-306 571.5,-300 571.5,-294 571.5,-294 571.5,-235 571.5,-235 571.5,-229 577.5,-223 583.5,-223 583.5,-223 707.5,-223 707.5,-223 713.5,-223 719.5,-229 719.5,-235 719.5,-235 719.5,-294 719.5,-294 719.5,-300 713.5,-306 707.5,-306\"/>\n<text text-anchor=\"start\" x=\"579.5\" y=\"-290.8\" font-family=\"Helvetica,sans-Serif\" font-size=\"14.00\">location_Mexico ≤ 0.5</text>\n<text text-anchor=\"start\" x=\"610\" y=\"-275.8\" font-family=\"Helvetica,sans-Serif\" font-size=\"14.00\">gini = 0.444</text>\n<text text-anchor=\"start\" x=\"608\" y=\"-260.8\" font-family=\"Helvetica,sans-Serif\" font-size=\"14.00\">samples = 6</text>\n<text text-anchor=\"start\" x=\"606\" y=\"-245.8\" font-family=\"Helvetica,sans-Serif\" font-size=\"14.00\">value = [2, 4]</text>\n<text text-anchor=\"start\" x=\"610.5\" y=\"-230.8\" font-family=\"Helvetica,sans-Serif\" font-size=\"14.00\">class = Yes</text>\n</g>\n<!-- 21&#45;&gt;22 -->\n<g id=\"edge22\" class=\"edge\">\n<title>21&#45;&gt;22</title>\n<path fill=\"none\" stroke=\"black\" d=\"M691.21,-341.91C685.95,-333.1 680.32,-323.7 674.88,-314.61\"/>\n<polygon fill=\"black\" stroke=\"black\" points=\"677.88,-312.81 669.74,-306.02 671.87,-316.4 677.88,-312.81\"/>\n</g>\n<!-- 27 -->\n<g id=\"node28\" class=\"node\">\n<title>27</title>\n<path fill=\"#e88f4f\" stroke=\"black\" d=\"M823.5,-306C823.5,-306 749.5,-306 749.5,-306 743.5,-306 737.5,-300 737.5,-294 737.5,-294 737.5,-235 737.5,-235 737.5,-229 743.5,-223 749.5,-223 749.5,-223 823.5,-223 823.5,-223 829.5,-223 835.5,-229 835.5,-235 835.5,-235 835.5,-294 835.5,-294 835.5,-300 829.5,-306 823.5,-306\"/>\n<text text-anchor=\"start\" x=\"754.5\" y=\"-290.8\" font-family=\"Helvetica,sans-Serif\" font-size=\"14.00\">age ≤ 75.5</text>\n<text text-anchor=\"start\" x=\"754.5\" y=\"-275.8\" font-family=\"Helvetica,sans-Serif\" font-size=\"14.00\">gini = 0.18</text>\n<text text-anchor=\"start\" x=\"745.5\" y=\"-260.8\" font-family=\"Helvetica,sans-Serif\" font-size=\"14.00\">samples = 10</text>\n<text text-anchor=\"start\" x=\"747\" y=\"-245.8\" font-family=\"Helvetica,sans-Serif\" font-size=\"14.00\">value = [9, 1]</text>\n<text text-anchor=\"start\" x=\"754.5\" y=\"-230.8\" font-family=\"Helvetica,sans-Serif\" font-size=\"14.00\">class = No</text>\n</g>\n<!-- 21&#45;&gt;27 -->\n<g id=\"edge27\" class=\"edge\">\n<title>21&#45;&gt;27</title>\n<path fill=\"none\" stroke=\"black\" d=\"M740.13,-341.91C745.47,-333.1 751.18,-323.7 756.7,-314.61\"/>\n<polygon fill=\"black\" stroke=\"black\" points=\"759.71,-316.39 761.91,-306.02 753.73,-312.75 759.71,-316.39\"/>\n</g>\n<!-- 23 -->\n<g id=\"node24\" class=\"node\">\n<title>23</title>\n<path fill=\"#399de5\" stroke=\"black\" d=\"M560,-179.5C560,-179.5 489,-179.5 489,-179.5 483,-179.5 477,-173.5 477,-167.5 477,-167.5 477,-123.5 477,-123.5 477,-117.5 483,-111.5 489,-111.5 489,-111.5 560,-111.5 560,-111.5 566,-111.5 572,-117.5 572,-123.5 572,-123.5 572,-167.5 572,-167.5 572,-173.5 566,-179.5 560,-179.5\"/>\n<text text-anchor=\"start\" x=\"496.5\" y=\"-164.3\" font-family=\"Helvetica,sans-Serif\" font-size=\"14.00\">gini = 0.0</text>\n<text text-anchor=\"start\" x=\"487\" y=\"-149.3\" font-family=\"Helvetica,sans-Serif\" font-size=\"14.00\">samples = 3</text>\n<text text-anchor=\"start\" x=\"485\" y=\"-134.3\" font-family=\"Helvetica,sans-Serif\" font-size=\"14.00\">value = [0, 3]</text>\n<text text-anchor=\"start\" x=\"489.5\" y=\"-119.3\" font-family=\"Helvetica,sans-Serif\" font-size=\"14.00\">class = Yes</text>\n</g>\n<!-- 22&#45;&gt;23 -->\n<g id=\"edge23\" class=\"edge\">\n<title>22&#45;&gt;23</title>\n<path fill=\"none\" stroke=\"black\" d=\"M603.52,-222.91C591.42,-211.21 578.23,-198.46 566.16,-186.78\"/>\n<polygon fill=\"black\" stroke=\"black\" points=\"568.42,-184.1 558.8,-179.67 563.56,-189.13 568.42,-184.1\"/>\n</g>\n<!-- 24 -->\n<g id=\"node25\" class=\"node\">\n<title>24</title>\n<path fill=\"#f2c09c\" stroke=\"black\" d=\"M697,-187C697,-187 602,-187 602,-187 596,-187 590,-181 590,-175 590,-175 590,-116 590,-116 590,-110 596,-104 602,-104 602,-104 697,-104 697,-104 703,-104 709,-110 709,-116 709,-116 709,-175 709,-175 709,-181 703,-187 697,-187\"/>\n<text text-anchor=\"start\" x=\"598\" y=\"-171.8\" font-family=\"Helvetica,sans-Serif\" font-size=\"14.00\">phone_iOS ≤ 0.5</text>\n<text text-anchor=\"start\" x=\"614\" y=\"-156.8\" font-family=\"Helvetica,sans-Serif\" font-size=\"14.00\">gini = 0.444</text>\n<text text-anchor=\"start\" x=\"612\" y=\"-141.8\" font-family=\"Helvetica,sans-Serif\" font-size=\"14.00\">samples = 3</text>\n<text text-anchor=\"start\" x=\"610\" y=\"-126.8\" font-family=\"Helvetica,sans-Serif\" font-size=\"14.00\">value = [2, 1]</text>\n<text text-anchor=\"start\" x=\"617.5\" y=\"-111.8\" font-family=\"Helvetica,sans-Serif\" font-size=\"14.00\">class = No</text>\n</g>\n<!-- 22&#45;&gt;24 -->\n<g id=\"edge24\" class=\"edge\">\n<title>22&#45;&gt;24</title>\n<path fill=\"none\" stroke=\"black\" d=\"M646.89,-222.91C647.17,-214.56 647.48,-205.67 647.77,-197.02\"/>\n<polygon fill=\"black\" stroke=\"black\" points=\"651.27,-197.13 648.11,-187.02 644.27,-196.9 651.27,-197.13\"/>\n</g>\n<!-- 25 -->\n<g id=\"node26\" class=\"node\">\n<title>25</title>\n<path fill=\"#e58139\" stroke=\"black\" d=\"M629,-68C629,-68 558,-68 558,-68 552,-68 546,-62 546,-56 546,-56 546,-12 546,-12 546,-6 552,0 558,0 558,0 629,0 629,0 635,0 641,-6 641,-12 641,-12 641,-56 641,-56 641,-62 635,-68 629,-68\"/>\n<text text-anchor=\"start\" x=\"565.5\" y=\"-52.8\" font-family=\"Helvetica,sans-Serif\" font-size=\"14.00\">gini = 0.0</text>\n<text text-anchor=\"start\" x=\"556\" y=\"-37.8\" font-family=\"Helvetica,sans-Serif\" font-size=\"14.00\">samples = 2</text>\n<text text-anchor=\"start\" x=\"554\" y=\"-22.8\" font-family=\"Helvetica,sans-Serif\" font-size=\"14.00\">value = [2, 0]</text>\n<text text-anchor=\"start\" x=\"561.5\" y=\"-7.8\" font-family=\"Helvetica,sans-Serif\" font-size=\"14.00\">class = No</text>\n</g>\n<!-- 24&#45;&gt;25 -->\n<g id=\"edge25\" class=\"edge\">\n<title>24&#45;&gt;25</title>\n<path fill=\"none\" stroke=\"black\" d=\"M628.65,-103.73C624.26,-95.15 619.63,-86.09 615.21,-77.46\"/>\n<polygon fill=\"black\" stroke=\"black\" points=\"618.2,-75.61 610.53,-68.3 611.97,-78.8 618.2,-75.61\"/>\n</g>\n<!-- 26 -->\n<g id=\"node27\" class=\"node\">\n<title>26</title>\n<path fill=\"#399de5\" stroke=\"black\" d=\"M742,-68C742,-68 671,-68 671,-68 665,-68 659,-62 659,-56 659,-56 659,-12 659,-12 659,-6 665,0 671,0 671,0 742,0 742,0 748,0 754,-6 754,-12 754,-12 754,-56 754,-56 754,-62 748,-68 742,-68\"/>\n<text text-anchor=\"start\" x=\"678.5\" y=\"-52.8\" font-family=\"Helvetica,sans-Serif\" font-size=\"14.00\">gini = 0.0</text>\n<text text-anchor=\"start\" x=\"669\" y=\"-37.8\" font-family=\"Helvetica,sans-Serif\" font-size=\"14.00\">samples = 1</text>\n<text text-anchor=\"start\" x=\"667\" y=\"-22.8\" font-family=\"Helvetica,sans-Serif\" font-size=\"14.00\">value = [0, 1]</text>\n<text text-anchor=\"start\" x=\"671.5\" y=\"-7.8\" font-family=\"Helvetica,sans-Serif\" font-size=\"14.00\">class = Yes</text>\n</g>\n<!-- 24&#45;&gt;26 -->\n<g id=\"edge26\" class=\"edge\">\n<title>24&#45;&gt;26</title>\n<path fill=\"none\" stroke=\"black\" d=\"M670.72,-103.73C675.24,-95.06 680.01,-85.9 684.54,-77.18\"/>\n<polygon fill=\"black\" stroke=\"black\" points=\"687.65,-78.79 689.17,-68.3 681.44,-75.55 687.65,-78.79\"/>\n</g>\n<!-- 28 -->\n<g id=\"node29\" class=\"node\">\n<title>28</title>\n<path fill=\"#e58139\" stroke=\"black\" d=\"M818,-179.5C818,-179.5 747,-179.5 747,-179.5 741,-179.5 735,-173.5 735,-167.5 735,-167.5 735,-123.5 735,-123.5 735,-117.5 741,-111.5 747,-111.5 747,-111.5 818,-111.5 818,-111.5 824,-111.5 830,-117.5 830,-123.5 830,-123.5 830,-167.5 830,-167.5 830,-173.5 824,-179.5 818,-179.5\"/>\n<text text-anchor=\"start\" x=\"754.5\" y=\"-164.3\" font-family=\"Helvetica,sans-Serif\" font-size=\"14.00\">gini = 0.0</text>\n<text text-anchor=\"start\" x=\"745\" y=\"-149.3\" font-family=\"Helvetica,sans-Serif\" font-size=\"14.00\">samples = 9</text>\n<text text-anchor=\"start\" x=\"743\" y=\"-134.3\" font-family=\"Helvetica,sans-Serif\" font-size=\"14.00\">value = [9, 0]</text>\n<text text-anchor=\"start\" x=\"750.5\" y=\"-119.3\" font-family=\"Helvetica,sans-Serif\" font-size=\"14.00\">class = No</text>\n</g>\n<!-- 27&#45;&gt;28 -->\n<g id=\"edge28\" class=\"edge\">\n<title>27&#45;&gt;28</title>\n<path fill=\"none\" stroke=\"black\" d=\"M785.11,-222.91C784.75,-212.2 784.35,-200.62 783.98,-189.78\"/>\n<polygon fill=\"black\" stroke=\"black\" points=\"787.47,-189.54 783.63,-179.67 780.48,-189.78 787.47,-189.54\"/>\n</g>\n<!-- 29 -->\n<g id=\"node30\" class=\"node\">\n<title>29</title>\n<path fill=\"#399de5\" stroke=\"black\" d=\"M931,-179.5C931,-179.5 860,-179.5 860,-179.5 854,-179.5 848,-173.5 848,-167.5 848,-167.5 848,-123.5 848,-123.5 848,-117.5 854,-111.5 860,-111.5 860,-111.5 931,-111.5 931,-111.5 937,-111.5 943,-117.5 943,-123.5 943,-123.5 943,-167.5 943,-167.5 943,-173.5 937,-179.5 931,-179.5\"/>\n<text text-anchor=\"start\" x=\"867.5\" y=\"-164.3\" font-family=\"Helvetica,sans-Serif\" font-size=\"14.00\">gini = 0.0</text>\n<text text-anchor=\"start\" x=\"858\" y=\"-149.3\" font-family=\"Helvetica,sans-Serif\" font-size=\"14.00\">samples = 1</text>\n<text text-anchor=\"start\" x=\"856\" y=\"-134.3\" font-family=\"Helvetica,sans-Serif\" font-size=\"14.00\">value = [0, 1]</text>\n<text text-anchor=\"start\" x=\"860.5\" y=\"-119.3\" font-family=\"Helvetica,sans-Serif\" font-size=\"14.00\">class = Yes</text>\n</g>\n<!-- 27&#45;&gt;29 -->\n<g id=\"edge29\" class=\"edge\">\n<title>27&#45;&gt;29</title>\n<path fill=\"none\" stroke=\"black\" d=\"M824.32,-222.91C835.11,-211.32 846.87,-198.7 857.67,-187.11\"/>\n<polygon fill=\"black\" stroke=\"black\" points=\"860.35,-189.37 864.6,-179.67 855.22,-184.6 860.35,-189.37\"/>\n</g>\n<!-- 31 -->\n<g id=\"node32\" class=\"node\">\n<title>31</title>\n<path fill=\"#399de5\" stroke=\"black\" d=\"M883,-417.5C883,-417.5 812,-417.5 812,-417.5 806,-417.5 800,-411.5 800,-405.5 800,-405.5 800,-361.5 800,-361.5 800,-355.5 806,-349.5 812,-349.5 812,-349.5 883,-349.5 883,-349.5 889,-349.5 895,-355.5 895,-361.5 895,-361.5 895,-405.5 895,-405.5 895,-411.5 889,-417.5 883,-417.5\"/>\n<text text-anchor=\"start\" x=\"819.5\" y=\"-402.3\" font-family=\"Helvetica,sans-Serif\" font-size=\"14.00\">gini = 0.0</text>\n<text text-anchor=\"start\" x=\"810\" y=\"-387.3\" font-family=\"Helvetica,sans-Serif\" font-size=\"14.00\">samples = 8</text>\n<text text-anchor=\"start\" x=\"808\" y=\"-372.3\" font-family=\"Helvetica,sans-Serif\" font-size=\"14.00\">value = [0, 8]</text>\n<text text-anchor=\"start\" x=\"812.5\" y=\"-357.3\" font-family=\"Helvetica,sans-Serif\" font-size=\"14.00\">class = Yes</text>\n</g>\n<!-- 30&#45;&gt;31 -->\n<g id=\"edge31\" class=\"edge\">\n<title>30&#45;&gt;31</title>\n<path fill=\"none\" stroke=\"black\" d=\"M850.11,-460.91C849.75,-450.2 849.35,-438.62 848.98,-427.78\"/>\n<polygon fill=\"black\" stroke=\"black\" points=\"852.47,-427.54 848.63,-417.67 845.48,-427.78 852.47,-427.54\"/>\n</g>\n<!-- 32 -->\n<g id=\"node33\" class=\"node\">\n<title>32</title>\n<path fill=\"#e58139\" stroke=\"black\" d=\"M996,-417.5C996,-417.5 925,-417.5 925,-417.5 919,-417.5 913,-411.5 913,-405.5 913,-405.5 913,-361.5 913,-361.5 913,-355.5 919,-349.5 925,-349.5 925,-349.5 996,-349.5 996,-349.5 1002,-349.5 1008,-355.5 1008,-361.5 1008,-361.5 1008,-405.5 1008,-405.5 1008,-411.5 1002,-417.5 996,-417.5\"/>\n<text text-anchor=\"start\" x=\"932.5\" y=\"-402.3\" font-family=\"Helvetica,sans-Serif\" font-size=\"14.00\">gini = 0.0</text>\n<text text-anchor=\"start\" x=\"923\" y=\"-387.3\" font-family=\"Helvetica,sans-Serif\" font-size=\"14.00\">samples = 1</text>\n<text text-anchor=\"start\" x=\"921\" y=\"-372.3\" font-family=\"Helvetica,sans-Serif\" font-size=\"14.00\">value = [1, 0]</text>\n<text text-anchor=\"start\" x=\"928.5\" y=\"-357.3\" font-family=\"Helvetica,sans-Serif\" font-size=\"14.00\">class = No</text>\n</g>\n<!-- 30&#45;&gt;32 -->\n<g id=\"edge32\" class=\"edge\">\n<title>30&#45;&gt;32</title>\n<path fill=\"none\" stroke=\"black\" d=\"M889.32,-460.91C900.11,-449.32 911.87,-436.7 922.67,-425.11\"/>\n<polygon fill=\"black\" stroke=\"black\" points=\"925.35,-427.37 929.6,-417.67 920.22,-422.6 925.35,-427.37\"/>\n</g>\n</g>\n</svg>\n"
          },
          "metadata": {},
          "execution_count": 12
        }
      ]
    },
    {
      "cell_type": "code",
      "source": [],
      "metadata": {
        "id": "cJsMG0Y9f-7c"
      },
      "execution_count": null,
      "outputs": []
    }
  ]
}